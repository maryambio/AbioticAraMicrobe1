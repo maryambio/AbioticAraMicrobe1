version https://git-lfs.github.com/spec/v1
oid sha256:ead1a960e80334c1a83db8d1c7541f28c6c0e1a6bea877b256b53b464bac82c0
size 47744

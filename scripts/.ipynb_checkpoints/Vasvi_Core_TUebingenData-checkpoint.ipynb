version https://git-lfs.github.com/spec/v1
oid sha256:c2d70ade6c3bffb01880df7a929d641003e240c1684a2b7c066a440b39a16d39
size 108501

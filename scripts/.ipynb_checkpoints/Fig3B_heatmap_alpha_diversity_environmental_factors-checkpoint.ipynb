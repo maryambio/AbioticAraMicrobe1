version https://git-lfs.github.com/spec/v1
oid sha256:1895ca430d58cfc1e480932c25061dad9146b0fb1b4dd49455d294f550964227
size 438184

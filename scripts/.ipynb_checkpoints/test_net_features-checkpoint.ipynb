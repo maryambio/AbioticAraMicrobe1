version https://git-lfs.github.com/spec/v1
oid sha256:d4657b2e53549ed59b18e54ebc406fb5b984e168acad8d31eb080b895b7ec395
size 25631

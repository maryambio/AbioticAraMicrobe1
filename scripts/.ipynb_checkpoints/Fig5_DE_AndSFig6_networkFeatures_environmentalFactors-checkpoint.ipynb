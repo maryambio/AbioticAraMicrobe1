version https://git-lfs.github.com/spec/v1
oid sha256:c152b00e53cb034574e30a7eac230da52e70e81c5df9cea1a5c43c7353d878c2
size 2729338

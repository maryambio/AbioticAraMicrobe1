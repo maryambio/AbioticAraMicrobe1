version https://git-lfs.github.com/spec/v1
oid sha256:e79ef3ad1d804f38a0019de6aad2c9e054e928ad8a5accb121262feb6c5a07bd
size 4544865

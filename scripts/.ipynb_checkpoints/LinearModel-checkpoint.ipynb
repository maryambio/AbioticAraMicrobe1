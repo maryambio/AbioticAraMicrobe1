version https://git-lfs.github.com/spec/v1
oid sha256:5a551aca9a6048f8492eb3cf4e8d239eedc85c7ec25e47bce2a07d70cd47feea
size 402196

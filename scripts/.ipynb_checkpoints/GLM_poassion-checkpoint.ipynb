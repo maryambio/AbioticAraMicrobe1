version https://git-lfs.github.com/spec/v1
oid sha256:a17ec23e2f369582703671893f05eb4c6dbe37d196e4f1c630ffea108b993997
size 3985005

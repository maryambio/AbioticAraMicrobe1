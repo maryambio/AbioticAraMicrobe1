version https://git-lfs.github.com/spec/v1
oid sha256:a66c235fa148842954527b58f7ed74e77e5c7728f9897839799a4e1a03990e1d
size 511620

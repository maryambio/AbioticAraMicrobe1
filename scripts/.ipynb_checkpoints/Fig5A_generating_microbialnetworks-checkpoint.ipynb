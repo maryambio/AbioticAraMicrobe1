version https://git-lfs.github.com/spec/v1
oid sha256:aaba01be020a9bebfbe3fcb2e7ef67d518a5ef32ba986cdfcb00a85ec717cec6
size 13215805

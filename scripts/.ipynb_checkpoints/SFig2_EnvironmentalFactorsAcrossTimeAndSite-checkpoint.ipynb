version https://git-lfs.github.com/spec/v1
oid sha256:a860a9c0ce1f255b1a80b14d9ca5320ba114c89c8ec75015c5437ee3b2b11db6
size 7639771

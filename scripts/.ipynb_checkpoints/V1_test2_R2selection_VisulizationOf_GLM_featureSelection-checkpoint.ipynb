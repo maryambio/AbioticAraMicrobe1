version https://git-lfs.github.com/spec/v1
oid sha256:852af2b43fe204157712309cf79b2b1c673c7486a8f32a91e36a0a982d378a73
size 4411008

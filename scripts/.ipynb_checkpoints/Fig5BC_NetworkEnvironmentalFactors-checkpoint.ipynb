version https://git-lfs.github.com/spec/v1
oid sha256:69e9cc81de5270fe048bd18a934529d3cff8809585ba7f24a0764f4649b76f1c
size 8074768

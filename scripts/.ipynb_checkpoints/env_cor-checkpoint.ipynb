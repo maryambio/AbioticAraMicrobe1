version https://git-lfs.github.com/spec/v1
oid sha256:b85ad40739101c2a81414ff06ea6ddfe200947b9839544829cd2f24b7d2f2b49
size 8669073

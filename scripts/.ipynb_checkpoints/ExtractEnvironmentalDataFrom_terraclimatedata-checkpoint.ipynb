version https://git-lfs.github.com/spec/v1
oid sha256:fa32d71098ae8b6f8a002a3316ee81e87491ebd7bf1514be35634133aec66559
size 99447

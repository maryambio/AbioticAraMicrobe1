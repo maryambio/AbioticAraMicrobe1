version https://git-lfs.github.com/spec/v1
oid sha256:80647be08070fbe0305249a4235ab751fa9710713cc2c014cc01ac6af11cc6c3
size 1560055
